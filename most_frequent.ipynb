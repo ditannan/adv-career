{
 "cells": [
  {
   "cell_type": "code",
   "execution_count": 9,
   "metadata": {},
   "outputs": [],
   "source": [
    "def most_frequent(s):\n",
    "    \"\"\"Return the most frequently accuring word in s.\"\"\"\\\n",
    "    \n",
    "    # split the string s into an array\n",
    "    s_array = s.split()\n",
    "    # sort the array\n",
    "    s_array.sort()\n",
    "    # find the most frequent word\n",
    "    count = 0\n",
    "    for i in s_array:\n",
    "        if count < s_array.count(i):\n",
    "            count = s_array.count(i)\n",
    "            result = i\n",
    "    \n",
    "    return result"
   ]
  },
  {
   "cell_type": "code",
   "execution_count": 10,
   "metadata": {},
   "outputs": [
    {
     "data": {
      "text/plain": [
       "'bat'"
      ]
     },
     "execution_count": 10,
     "metadata": {},
     "output_type": "execute_result"
    }
   ],
   "source": [
    "s = 'cat cat mat cat bat mat bat bat'\n",
    "most_frequent(s)"
   ]
  }
 ],
 "metadata": {
  "kernelspec": {
   "display_name": "Python 3",
   "language": "python",
   "name": "python3"
  },
  "language_info": {
   "codemirror_mode": {
    "name": "ipython",
    "version": 3
   },
   "file_extension": ".py",
   "mimetype": "text/x-python",
   "name": "python",
   "nbconvert_exporter": "python",
   "pygments_lexer": "ipython3",
   "version": "3.6.4"
  }
 },
 "nbformat": 4,
 "nbformat_minor": 2
}
